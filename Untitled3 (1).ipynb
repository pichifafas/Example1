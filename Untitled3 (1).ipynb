{
  "nbformat": 4,
  "nbformat_minor": 0,
  "metadata": {
    "colab": {
      "provenance": []
    },
    "kernelspec": {
      "name": "python3",
      "display_name": "Python 3"
    },
    "language_info": {
      "name": "python"
    }
  },
  "cells": [
    {
      "cell_type": "code",
      "execution_count": 3,
      "metadata": {
        "colab": {
          "base_uri": "https://localhost:8080/"
        },
        "id": "8P8B3zA-xqmJ",
        "outputId": "b9f82ede-1b0c-472f-f50a-bd0884d5aeeb"
      },
      "outputs": [
        {
          "output_type": "stream",
          "name": "stdout",
          "text": [
            "0\n",
            "1\n",
            "2\n",
            "3\n",
            "4\n",
            "5\n",
            "6\n",
            "7\n",
            "8\n",
            "9\n",
            "10\n"
          ]
        }
      ],
      "source": [
        "for i in range(0,11):\n",
        "  print(i)"
      ]
    },
    {
      "cell_type": "code",
      "source": [
        "a=input(\"Enter your first name: \")\n",
        "b=input(\"Enter your last name: \")\n",
        "c=input(\"University: \")\n",
        "d=int(input(\"Enter USN: \"))\n",
        "e=input(\"Enter Semester: \")"
      ],
      "metadata": {
        "colab": {
          "base_uri": "https://localhost:8080/"
        },
        "id": "qVTKbmqX1iXG",
        "outputId": "46aaf6a6-be0d-4783-b0dc-b303a65e2057"
      },
      "execution_count": 5,
      "outputs": [
        {
          "name": "stdout",
          "output_type": "stream",
          "text": [
            "Enter your first name: Amrutha\n",
            "Enter your last name: V\n",
            "University: DSU\n",
            "Enter USN: 0008\n",
            "Enter Semester: 7th sem\n"
          ]
        }
      ]
    }
  ]
}